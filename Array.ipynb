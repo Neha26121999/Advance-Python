{
 "cells": [
  {
   "cell_type": "code",
   "execution_count": null,
   "metadata": {},
   "outputs": [],
   "source": [
    "from array import *"
   ]
  },
  {
   "cell_type": "code",
   "execution_count": 2,
   "metadata": {},
   "outputs": [
    {
     "name": "stdout",
     "output_type": "stream",
     "text": [
      "10\n",
      "20\n",
      "30\n",
      "40\n",
      "50\n"
     ]
    }
   ],
   "source": [
    "array1=array('i',[10,20,30,40,50])\n",
    "for x in array1:\n",
    "    print(x)"
   ]
  },
  {
   "cell_type": "code",
   "execution_count": 3,
   "metadata": {},
   "outputs": [
    {
     "name": "stdout",
     "output_type": "stream",
     "text": [
      "20\n",
      "30\n",
      "40\n",
      "50\n"
     ]
    }
   ],
   "source": [
    "array2=array('i',[20,30,40,50])\n",
    "for x in array2:\n",
    "    print(x)"
   ]
  },
  {
   "cell_type": "code",
   "execution_count": 4,
   "metadata": {},
   "outputs": [
    {
     "name": "stdout",
     "output_type": "stream",
     "text": [
      "20\n"
     ]
    }
   ],
   "source": [
    "print(array2[0])"
   ]
  },
  {
   "cell_type": "code",
   "execution_count": 5,
   "metadata": {},
   "outputs": [
    {
     "name": "stdout",
     "output_type": "stream",
     "text": [
      "40\n",
      "50\n",
      "60\n",
      "90\n",
      "40\n",
      "50\n"
     ]
    }
   ],
   "source": [
    "from array import *\n",
    "array3=array('i',[40,50,60,90])\n",
    "for x in array3:\n",
    "    print(x)\n",
    "print(array3[0])\n",
    "print(array3[1])\n"
   ]
  },
  {
   "cell_type": "code",
   "execution_count": 6,
   "metadata": {},
   "outputs": [
    {
     "name": "stdout",
     "output_type": "stream",
     "text": [
      "20\n",
      "60\n",
      "30\n",
      "40\n",
      "60\n"
     ]
    }
   ],
   "source": [
    "from array import *\n",
    "array5=array('i',[20,30,40,60])\n",
    "array5.insert(1,60)\n",
    "for x in array5:\n",
    "    print(x)"
   ]
  },
  {
   "cell_type": "code",
   "execution_count": 8,
   "metadata": {},
   "outputs": [
    {
     "name": "stdout",
     "output_type": "stream",
     "text": [
      "92\n",
      "45\n",
      "89\n",
      "63\n"
     ]
    }
   ],
   "source": [
    "from array import *\n",
    "array6=array('i',[92,98,45,63])\n",
    "array6.insert(3,89)\n",
    "array6.remove(98)\n",
    "for x in array6:\n",
    "    print(x)"
   ]
  },
  {
   "cell_type": "code",
   "execution_count": 9,
   "metadata": {},
   "outputs": [
    {
     "name": "stdout",
     "output_type": "stream",
     "text": [
      "1\n"
     ]
    }
   ],
   "source": [
    "from array import *\n",
    "array7=array('i',[30,40,60,70])\n",
    "print(array7.index(40))"
   ]
  },
  {
   "cell_type": "code",
   "execution_count": 10,
   "metadata": {},
   "outputs": [
    {
     "name": "stdout",
     "output_type": "stream",
     "text": [
      "10\n",
      "2\n",
      "2\n",
      "4\n",
      "55\n",
      "6\n"
     ]
    }
   ],
   "source": [
    "from array import *\n",
    "ins=array('i',[10,2,3,4,55,6])\n",
    "ins[2]=2\n",
    "for x in ins:\n",
    "    print(x)"
   ]
  },
  {
   "cell_type": "code",
   "execution_count": 11,
   "metadata": {},
   "outputs": [
    {
     "name": "stdout",
     "output_type": "stream",
     "text": [
      "2\n",
      "1\n",
      "8\n",
      "89\n",
      "3\n",
      "5\n",
      "6\n",
      "7\n"
     ]
    }
   ],
   "source": [
    "from array import *\n",
    "element=array('i',[1,2,3,4,5,6,7])\n",
    "element.insert(1,8)\n",
    "element.remove(4)\n",
    "print(element.index(2))\n",
    "element[2]=89\n",
    "for x in element:\n",
    "    print(x)\n"
   ]
  },
  {
   "cell_type": "code",
   "execution_count": 4,
   "metadata": {},
   "outputs": [
    {
     "name": "stdout",
     "output_type": "stream",
     "text": [
      "po\n",
      "ogramming lovers are like coding lovers\n",
      "41\n"
     ]
    }
   ],
   "source": [
    "mystr=\"programming lovers are like coding lovers\"\n",
    "print(mystr[0:3:2])\n",
    "print(mystr[2:])\n",
    "print(len(mystr))"
   ]
  },
  {
   "cell_type": "code",
   "execution_count": 6,
   "metadata": {},
   "outputs": [
    {
     "name": "stdout",
     "output_type": "stream",
     "text": [
      "A\n"
     ]
    }
   ],
   "source": [
    "d1={}\n",
    "d2={\"harry\":\"neha\",\"rajat\":\"ritesh\",\"aaj\":{\"raj\":\"A\",\"rut\":\"B\"}}\n",
    "print(d2[\"aaj\"][\"raj\"])"
   ]
  },
  {
   "cell_type": "code",
   "execution_count": 7,
   "metadata": {},
   "outputs": [
    {
     "name": "stdout",
     "output_type": "stream",
     "text": [
      "select from text, science, maths, social\n"
     ]
    },
    {
     "name": "stdin",
     "output_type": "stream",
     "text": [
      " text\n"
     ]
    },
    {
     "name": "stdout",
     "output_type": "stream",
     "text": [
      "book\n"
     ]
    }
   ],
   "source": [
    "d1 = {\"text\" : \"book\", \"science\" : \"physics\", \"maths\" : \"arithmetic\", \"social\" : \"history\"}\n",
    "print(\"select from text, science, maths, social\")\n",
    "x = input()\n",
    "print(d1.get(x))"
   ]
  },
  {
   "cell_type": "code",
   "execution_count": 8,
   "metadata": {},
   "outputs": [
    {
     "name": "stdin",
     "output_type": "stream",
     "text": [
      " A\n"
     ]
    },
    {
     "name": "stdout",
     "output_type": "stream",
     "text": [
      "1\n"
     ]
    }
   ],
   "source": [
    "d1={\"A\":1,\"B\":2}\n",
    "x=input()\n",
    "print(d1.get(x))"
   ]
  },
  {
   "cell_type": "code",
   "execution_count": 21,
   "metadata": {},
   "outputs": [
    {
     "ename": "TypeError",
     "evalue": "'<' not supported between instances of 'list' and 'int'",
     "output_type": "error",
     "traceback": [
      "\u001b[1;31m---------------------------------------------------------------------------\u001b[0m",
      "\u001b[1;31mTypeError\u001b[0m                                 Traceback (most recent call last)",
      "\u001b[1;32m<ipython-input-21-74bdfc2b519d>\u001b[0m in \u001b[0;36m<module>\u001b[1;34m\u001b[0m\n\u001b[0;32m      6\u001b[0m \u001b[0mlist1\u001b[0m\u001b[1;33m.\u001b[0m\u001b[0mindex\u001b[0m\u001b[1;33m(\u001b[0m\u001b[1;36m8\u001b[0m\u001b[1;33m)\u001b[0m\u001b[1;33m\u001b[0m\u001b[1;33m\u001b[0m\u001b[0m\n\u001b[0;32m      7\u001b[0m \u001b[1;33m\u001b[0m\u001b[0m\n\u001b[1;32m----> 8\u001b[1;33m \u001b[0mlist1\u001b[0m\u001b[1;33m.\u001b[0m\u001b[0msort\u001b[0m\u001b[1;33m(\u001b[0m\u001b[1;33m)\u001b[0m\u001b[1;33m\u001b[0m\u001b[1;33m\u001b[0m\u001b[0m\n\u001b[0m",
      "\u001b[1;31mTypeError\u001b[0m: '<' not supported between instances of 'list' and 'int'"
     ]
    }
   ],
   "source": [
    "list1=[3,0,8,6]\n",
    "list2=[5,9,0,7]\n",
    "list1.append(list2)\n",
    "list1.insert(1,6)\n",
    "\n",
    "list1.index(8)\n",
    "\n",
    "list1.sort()"
   ]
  },
  {
   "cell_type": "code",
   "execution_count": 22,
   "metadata": {},
   "outputs": [
    {
     "data": {
      "text/plain": [
       "[2, 3, 5, 9]"
      ]
     },
     "execution_count": 22,
     "metadata": {},
     "output_type": "execute_result"
    }
   ],
   "source": [
    "lst=[5,9,3,2]\n",
    "lst.sort()\n",
    "lst"
   ]
  },
  {
   "cell_type": "code",
   "execution_count": 1,
   "metadata": {},
   "outputs": [
    {
     "name": "stdin",
     "output_type": "stream",
     "text": [
      "enter the number 2\n"
     ]
    },
    {
     "name": "stdout",
     "output_type": "stream",
     "text": [
      "ty again\n"
     ]
    },
    {
     "name": "stdin",
     "output_type": "stream",
     "text": [
      "enter the number 3\n"
     ]
    },
    {
     "name": "stdout",
     "output_type": "stream",
     "text": [
      "ty again\n"
     ]
    },
    {
     "name": "stdin",
     "output_type": "stream",
     "text": [
      "enter the number 100\n"
     ]
    },
    {
     "name": "stdout",
     "output_type": "stream",
     "text": [
      "ty again\n"
     ]
    },
    {
     "name": "stdin",
     "output_type": "stream",
     "text": [
      "enter the number 102\n"
     ]
    },
    {
     "name": "stdout",
     "output_type": "stream",
     "text": [
      "congratulations you print the number greater than 100\n"
     ]
    }
   ],
   "source": [
    "while(True):\n",
    "    n=int(input(\"enter the number\"))\n",
    "    if n>100:\n",
    "        print(\"congratulations you print the number greater than 100\")\n",
    "        break\n",
    "    else:\n",
    "        print(\"ty again\")\n",
    "        continue\n",
    "    "
   ]
  },
  {
   "cell_type": "code",
   "execution_count": 5,
   "metadata": {},
   "outputs": [
    {
     "name": "stdout",
     "output_type": "stream",
     "text": [
      "s\n",
      "t\n",
      "r\n",
      "the end\n"
     ]
    }
   ],
   "source": [
    "for value in \"string\":\n",
    "    if value==\"i\":\n",
    "        break\n",
    "    print(value)\n",
    "print(\"the end\")"
   ]
  },
  {
   "cell_type": "code",
   "execution_count": 6,
   "metadata": {},
   "outputs": [
    {
     "name": "stdout",
     "output_type": "stream",
     "text": [
      "e\n",
      "d\n",
      "the end\n"
     ]
    }
   ],
   "source": [
    "for val in \"education\":\n",
    "    if val==\"u\":\n",
    "        break\n",
    "    print(val)\n",
    "print(\"the end\")"
   ]
  },
  {
   "cell_type": "code",
   "execution_count": 7,
   "metadata": {},
   "outputs": [
    {
     "name": "stdout",
     "output_type": "stream",
     "text": [
      "s\n",
      "t\n",
      "r\n",
      "n\n",
      "g\n",
      "The end\n"
     ]
    }
   ],
   "source": [
    "# Program to show the use of continue statement inside loops\n",
    "\n",
    "for val in \"string\":\n",
    "    if val == \"i\":\n",
    "        continue\n",
    "    print(val)\n",
    "\n",
    "print(\"The end\")"
   ]
  },
  {
   "cell_type": "code",
   "execution_count": 20,
   "metadata": {},
   "outputs": [
    {
     "name": "stdin",
     "output_type": "stream",
     "text": [
      "enter the choice of opeator /\n",
      "enter the number 56\n",
      "enter the number 6\n"
     ]
    },
    {
     "name": "stdout",
     "output_type": "stream",
     "text": [
      "4\n"
     ]
    }
   ],
   "source": [
    "operator=input(\"enter the choice of opeator\")\n",
    "a=int(input(\"enter the number\"))\n",
    "b=int(input(\"enter the number\"))\n",
    "if operator==\"+\":\n",
    "    if(a==56 and b==9 or a==9 and b==56):\n",
    "        print(\"77\")\n",
    "    else:\n",
    "        print(a+b)\n",
    "elif operator==\"-\":\n",
    "    print(a-b)\n",
    "elif operator==\"*\":\n",
    "    if(a!=45 and b!=3 or a!=3 and b!=45):\n",
    "        print(a*b)\n",
    "    else:\n",
    "        print(\"555\")\n",
    "elif operator==\"/\":\n",
    "    if(a!=56 and b!=6):\n",
    "        print(a/b)\n",
    "    else:\n",
    "        print(\"4\")\n",
    "    \n",
    "\n",
    "    "
   ]
  },
  {
   "cell_type": "code",
   "execution_count": null,
   "metadata": {},
   "outputs": [],
   "source": [
    "n=7\n",
    "count =0\n",
    "while(True):\n",
    "    num=int(input(\"enter the number\"))\n",
    "    if (num>n):\n",
    "        print(\"you enter the number which is greater than existing number\")\n",
    "    elif(num<n):\n",
    "        print(\"you enter the number less than the existing nuymber\")\n",
    "    elif(num==n):\n",
    "        count=count+1\n",
    "        if (count>5):\n",
    "            break\n",
    "        print(\"congratulations you entered the correct number\")\n",
    "    break\n",
    "            \n",
    "            \n",
    "            \n",
    "        \n",
    "        \n",
    "    "
   ]
  },
  {
   "cell_type": "code",
   "execution_count": null,
   "metadata": {},
   "outputs": [],
   "source": [
    "n=7\n",
    "count =0\n",
    "while(True):\n",
    "    num=int(input(\"enter the number\"))\n",
    "    count=count+1\n",
    "    if count>5:\n",
    "        break\n",
    "    if (num>n):\n",
    "        print(\"you enter the number which is greater than existing number\")\n",
    "    elif(num<n):\n",
    "        print(\"you enter the number less than the existing nuymber\")\n",
    "    elif(num==n):\n",
    "        print(\"congratulations you entered the correct number\")\n",
    "        break\n",
    "            "
   ]
  },
  {
   "cell_type": "code",
   "execution_count": null,
   "metadata": {},
   "outputs": [],
   "source": []
  }
 ],
 "metadata": {
  "kernelspec": {
   "display_name": "Python 3",
   "language": "python",
   "name": "python3"
  },
  "language_info": {
   "codemirror_mode": {
    "name": "ipython",
    "version": 3
   },
   "file_extension": ".py",
   "mimetype": "text/x-python",
   "name": "python",
   "nbconvert_exporter": "python",
   "pygments_lexer": "ipython3",
   "version": "3.7.3"
  }
 },
 "nbformat": 4,
 "nbformat_minor": 2
}
